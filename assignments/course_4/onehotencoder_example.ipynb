{
 "cells": [
  {
   "cell_type": "code",
   "execution_count": 52,
   "metadata": {},
   "outputs": [
    {
     "name": "stdout",
     "output_type": "stream",
     "text": [
      "[['apple' 'red' '1' 'round' '0']\n",
      " ['orange' 'orange' '2' 'round' '0.1']\n",
      " ['banana' 'yellow' '2' 'long' '0']\n",
      " ['apple' 'green' '1' 'round' '0.2']]\n",
      "[['1.0' '0.0' '0.0' '0.0' '0.0' '1.0' '0.0' '0.0' '1.0' '1' '0']\n",
      " ['0.0' '0.0' '1.0' '0.0' '1.0' '0.0' '0.0' '0.0' '1.0' '2' '0.1']\n",
      " ['0.0' '1.0' '0.0' '0.0' '0.0' '0.0' '1.0' '1.0' '0.0' '2' '0']\n",
      " ['1.0' '0.0' '0.0' '1.0' '0.0' '0.0' '0.0' '0.0' '1.0' '1' '0.2']]\n"
     ]
    }
   ],
   "source": [
    "from sklearn.compose import ColumnTransformer\n",
    "from sklearn.preprocessing import LabelEncoder, OneHotEncoder\n",
    "import numpy as np\n",
    "\n",
    "X = np.array([['apple', 'red', 1, 'round', 0],\n",
    "              ['orange', 'orange', 2, 'round', 0.1],\n",
    "              ['banana', 'yellow', 2, 'long', 0],\n",
    "              ['apple', 'green', 1, 'round', 0.2]])\n",
    "\n",
    "ct = ColumnTransformer(\n",
    "    [('oh_enc', OneHotEncoder(sparse=False), [0, 1, 3]),],  # the column numbers I want to apply this to\n",
    "    remainder='passthrough'  # This leaves the rest of my columns in place\n",
    ")\n",
    "\n",
    "print(X)\n",
    "print(ct.fit_transform(X)) # Notice the output is a string"
   ]
  },
  {
   "cell_type": "code",
   "execution_count": 53,
   "metadata": {},
   "outputs": [
    {
     "name": "stdout",
     "output_type": "stream",
     "text": [
      "['apple' 'banana' 'orange' 'green' 'red' 'yellow' 'long' 'round']\n"
     ]
    }
   ],
   "source": [
    "features = []\n",
    "for v in range(0, len(X)):\n",
    "    for i in X:\n",
    "        if i[v] not in features:\n",
    "            if i[v].isalpha():\n",
    "                features.append(i[v])\n",
    "\n",
    "features = np.array(features)\n",
    "features[0:3].sort()\n",
    "features[3:6].sort()\n",
    "features[6:8].sort()\n",
    "print(features)"
   ]
  },
  {
   "cell_type": "code",
   "execution_count": null,
   "metadata": {},
   "outputs": [],
   "source": []
  }
 ],
 "metadata": {
  "kernelspec": {
   "display_name": "Python 3",
   "language": "python",
   "name": "python3"
  },
  "language_info": {
   "codemirror_mode": {
    "name": "ipython",
    "version": 3
   },
   "file_extension": ".py",
   "mimetype": "text/x-python",
   "name": "python",
   "nbconvert_exporter": "python",
   "pygments_lexer": "ipython3",
   "version": "3.6.0"
  }
 },
 "nbformat": 4,
 "nbformat_minor": 2
}
