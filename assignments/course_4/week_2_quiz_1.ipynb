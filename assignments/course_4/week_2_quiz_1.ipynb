{
 "cells": [
  {
   "cell_type": "code",
   "execution_count": 17,
   "metadata": {},
   "outputs": [
    {
     "data": {
      "text/html": [
       "<div style=\"max-height:1000px;max-width:1500px;overflow:auto;\"><table frame=\"box\" rules=\"cols\">\n",
       "    <tr>\n",
       "        <th style=\"padding-left: 1em; padding-right: 1em; text-align: center\">text</th>\n",
       "        <th style=\"padding-left: 1em; padding-right: 1em; text-align: center\">word_count</th>\n",
       "    </tr>\n",
       "    <tr>\n",
       "        <td style=\"padding-left: 1em; padding-right: 1em; text-align: center; vertical-align: top\">The quick brown fox jumps<br>over the lazy dog. ...</td>\n",
       "        <td style=\"padding-left: 1em; padding-right: 1em; text-align: center; vertical-align: top\">{&#x27;dog&#x27;: 1, &#x27;lazy&#x27;: 1,<br>&#x27;fox&#x27;: 1, &#x27;over&#x27;: 1, ...</td>\n",
       "    </tr>\n",
       "    <tr>\n",
       "        <td style=\"padding-left: 1em; padding-right: 1em; text-align: center; vertical-align: top\">A quick brown dog<br>outpaces a quick fox. ...</td>\n",
       "        <td style=\"padding-left: 1em; padding-right: 1em; text-align: center; vertical-align: top\">{&#x27;fox&#x27;: 1, &#x27;dog&#x27;: 1,<br>&#x27;brown&#x27;: 1, &#x27;outpaces&#x27;: ...</td>\n",
       "    </tr>\n",
       "</table>\n",
       "[2 rows x 2 columns]<br/>\n",
       "</div>"
      ],
      "text/plain": [
       "Columns:\n",
       "\ttext\tstr\n",
       "\tword_count\tdict\n",
       "\n",
       "Rows: 2\n",
       "\n",
       "Data:\n",
       "+-------------------------------+-------------------------------+\n",
       "|              text             |           word_count          |\n",
       "+-------------------------------+-------------------------------+\n",
       "| The quick brown fox jumps ... | {'dog': 1, 'lazy': 1, 'fox... |\n",
       "| A quick brown dog outpaces... | {'fox': 1, 'dog': 1, 'brow... |\n",
       "+-------------------------------+-------------------------------+\n",
       "[2 rows x 2 columns]"
      ]
     },
     "execution_count": 17,
     "metadata": {},
     "output_type": "execute_result"
    }
   ],
   "source": [
    "import turicreate as tc\n",
    "\n",
    "sf = tc.SFrame(\n",
    "    {'text': ['The quick brown fox jumps over the lazy dog.','A quick brown dog outpaces a quick fox.']})\n",
    "sf['word_count'] = tc.text_analytics.count_words(sf['text'])\n",
    "sf"
   ]
  },
  {
   "cell_type": "code",
   "execution_count": 18,
   "metadata": {},
   "outputs": [
    {
     "name": "stdout",
     "output_type": "stream",
     "text": [
      "Euclidean distance between sentence 1 and sentence 2: 3.606\n"
     ]
    }
   ],
   "source": [
    "print('Euclidean distance between sentence 1 and sentence 2: %.3f' %\n",
    "      tc.toolkits.distances.euclidean(sf[0]['word_count'],sf[1]['word_count']))"
   ]
  },
  {
   "cell_type": "code",
   "execution_count": 20,
   "metadata": {},
   "outputs": [
    {
     "name": "stdout",
     "output_type": "stream",
     "text": [
      "Cosine distance between sentence 1 and sentence 2: 0.565\n"
     ]
    }
   ],
   "source": [
    "print('Cosine distance between sentence 1 and sentence 2: %.3f' %\n",
    "      tc.toolkits.distances.cosine(sf[0]['word_count'],sf[1]['word_count']))"
   ]
  },
  {
   "cell_type": "code",
   "execution_count": null,
   "metadata": {},
   "outputs": [],
   "source": []
  }
 ],
 "metadata": {
  "kernelspec": {
   "display_name": "Python 3",
   "language": "python",
   "name": "python3"
  },
  "language_info": {
   "codemirror_mode": {
    "name": "ipython",
    "version": 3
   },
   "file_extension": ".py",
   "mimetype": "text/x-python",
   "name": "python",
   "nbconvert_exporter": "python",
   "pygments_lexer": "ipython3",
   "version": "3.6.0"
  }
 },
 "nbformat": 4,
 "nbformat_minor": 2
}
