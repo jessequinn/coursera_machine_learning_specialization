{
 "cells": [
  {
   "cell_type": "code",
   "execution_count": 1,
   "metadata": {},
   "outputs": [],
   "source": [
    "import turicreate as tc"
   ]
  },
  {
   "cell_type": "code",
   "execution_count": 2,
   "metadata": {},
   "outputs": [
    {
     "name": "stderr",
     "output_type": "stream",
     "text": [
      "This model was saved in a legacy model format. Compatibility cannot be guaranteed in future versions.\n"
     ]
    }
   ],
   "source": [
    "topic_model = tc.load_model('01_modeling-text-topics-with-latent-dirichlet-allocation_topic_models/lda_assignment_topic_model')"
   ]
  },
  {
   "cell_type": "code",
   "execution_count": 3,
   "metadata": {},
   "outputs": [
    {
     "data": {
      "text/plain": [
       "Class                          : TopicModel\n",
       "\n",
       "Schema\n",
       "------\n",
       "Vocabulary Size                : 547462\n",
       "\n",
       "Settings\n",
       "--------\n",
       "Number of Topics               : 10\n",
       "alpha                          : 5.0\n",
       "beta                           : 0.1\n",
       "Iterations                     : 200\n",
       "Training time                  : 363.9111\n",
       "Verbose                        : False\n",
       "\n",
       "Accessible fields             : \n",
       "m.topics                      : An SFrame containing the topics.\n",
       "m.vocabulary                  : An SArray containing the words in the vocabulary.\n",
       "Useful methods                : \n",
       "m.get_topics()                : Get the most probable words per topic.\n",
       "m.predict(new_docs)           : Make predictions for new documents."
      ]
     },
     "execution_count": 3,
     "metadata": {},
     "output_type": "execute_result"
    }
   ],
   "source": [
    "topic_model"
   ]
  },
  {
   "cell_type": "code",
   "execution_count": 4,
   "metadata": {},
   "outputs": [],
   "source": [
    "topic_model.save('lda_assignment_topic_model')"
   ]
  },
  {
   "cell_type": "code",
   "execution_count": 5,
   "metadata": {},
   "outputs": [
    {
     "name": "stderr",
     "output_type": "stream",
     "text": [
      "This model was saved in a legacy model format. Compatibility cannot be guaranteed in future versions.\n",
      "This model was saved in a legacy model format. Compatibility cannot be guaranteed in future versions.\n"
     ]
    }
   ],
   "source": [
    "tpm_low_alpha = tc.load_model('01_modeling-text-topics-with-latent-dirichlet-allocation_topic_models/lda_low_alpha')\n",
    "tpm_high_alpha = tc.load_model('01_modeling-text-topics-with-latent-dirichlet-allocation_topic_models/lda_high_alpha')"
   ]
  },
  {
   "cell_type": "code",
   "execution_count": 6,
   "metadata": {},
   "outputs": [],
   "source": [
    "tpm_low_alpha.save('lda_low_alpha')\n",
    "tpm_high_alpha.save('lda_high_alpha')"
   ]
  },
  {
   "cell_type": "code",
   "execution_count": 7,
   "metadata": {},
   "outputs": [
    {
     "name": "stderr",
     "output_type": "stream",
     "text": [
      "This model was saved in a legacy model format. Compatibility cannot be guaranteed in future versions.\n",
      "This model was saved in a legacy model format. Compatibility cannot be guaranteed in future versions.\n"
     ]
    }
   ],
   "source": [
    "tpm_low_gamma = tc.load_model('01_modeling-text-topics-with-latent-dirichlet-allocation_topic_models/lda_low_gamma')\n",
    "tpm_high_gamma = tc.load_model('01_modeling-text-topics-with-latent-dirichlet-allocation_topic_models/lda_high_gamma')"
   ]
  },
  {
   "cell_type": "code",
   "execution_count": 8,
   "metadata": {},
   "outputs": [],
   "source": [
    "tpm_low_gamma.save('lda_low_gamma')\n",
    "tpm_high_gamma.save('lda_high_gamma')"
   ]
  },
  {
   "cell_type": "code",
   "execution_count": null,
   "metadata": {},
   "outputs": [],
   "source": []
  }
 ],
 "metadata": {
  "kernelspec": {
   "display_name": "Python 2",
   "language": "python",
   "name": "python2"
  },
  "language_info": {
   "codemirror_mode": {
    "name": "ipython",
    "version": 2
   },
   "file_extension": ".py",
   "mimetype": "text/x-python",
   "name": "python",
   "nbconvert_exporter": "python",
   "pygments_lexer": "ipython2",
   "version": "2.7.15"
  }
 },
 "nbformat": 4,
 "nbformat_minor": 2
}
