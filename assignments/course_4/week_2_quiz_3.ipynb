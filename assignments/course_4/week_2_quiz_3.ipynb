{
 "cells": [
  {
   "cell_type": "code",
   "execution_count": 5,
   "metadata": {},
   "outputs": [
    {
     "data": {
      "image/png": "[encoded data removed]",
      "text/plain": [
       "<Figure size 720x288 with 1 Axes>"
      ]
     },
     "metadata": {},
     "output_type": "display_data"
    },
    {
     "name": "stdout",
     "output_type": "stream",
     "text": [
      "first split value: -0.015\n",
      "second split value: 0.995\n",
      "third split value: -2.275\n"
     ]
    }
   ],
   "source": [
    "%matplotlib inline\n",
    "import matplotlib.pyplot as plt\n",
    "plt.style.use('seaborn-whitegrid')\n",
    "import numpy as np\n",
    "\n",
    "labels = list(range(1,7))\n",
    "x1 = [-1.58, 0.91, -0.73, -4.22, 4.19, -0.33]\n",
    "x2 = [-2.01, 3.98, 4.00, 1.16, -2.02, 2.15]\n",
    "\n",
    "\n",
    "plt.figure(figsize=(10,4))\n",
    "plt.plot(x1, x2, 'o', color='r', alpha=0.4);\n",
    "for i, txt in enumerate(labels):\n",
    "    plt.annotate(txt, (x1[i]+0.1, x2[i]), color='black')\n",
    "plt.xlabel('X1')\n",
    "plt.ylabel('X2');\n",
    "plt.axvline(x=(min(x1)+max(x1))/2, color='purple', alpha=0.4)\n",
    "plt.axhline(y=(4.00-2.01)/2, xmax=0.50, color='blue', alpha=0.4)\n",
    "plt.axvline(x=(-4.22+-0.33)/2, ymin=0.50, color='green', alpha=0.4)\n",
    "plt.plot(-3, 1.5, 'x', color='r')\n",
    "plt.title('KD-trees example')\n",
    "circ=plt.Circle(xy=(-3, 1.5), radius=1.25, color='r', fill=False, linestyle='--')\n",
    "plt.gca().add_artist(circ)\n",
    "plt.tight_layout()\n",
    "plt.show()\n",
    "\n",
    "print('first split value: %.3f' % float((min(x1)+max(x1))/2))\n",
    "print('second split value: %.3f' % float((4.00-2.01)/2))\n",
    "print('third split value: %.3f' % float((-4.22+-0.33)/2))"
   ]
  },
  {
   "cell_type": "code",
   "execution_count": 78,
   "metadata": {},
   "outputs": [
    {
     "name": "stdout",
     "output_type": "stream",
     "text": [
      "x axis split: -0.015\n",
      "y axis split: 0.995\n",
      "x axis split: -2.275\n"
     ]
    }
   ],
   "source": [
    "inverse = False\n",
    "\n",
    "def kd_tree(x, y): \n",
    "    '''\n",
    "        The following function will iterate through two lists using the average value to split on.\n",
    "        The function also swaps continuously between x and y.\n",
    "    '''\n",
    "    \n",
    "    global inverse\n",
    "    if inverse:\n",
    "        minimum, maximum = min(y), max(y)\n",
    "        inverse=False\n",
    "        \n",
    "        split = (minimum+maximum)/2\n",
    "        print('y axis split: %.3f' % split)\n",
    "\n",
    "        split1 = [[x[i],y[i]] for i in range(0,len(y)) if y[i] > split]\n",
    "        split2 = [[x[i],y[i]] for i in range(0,len(y)) if y[i] < split]\n",
    "        \n",
    "        if len(split1) > 2:\n",
    "            kd_tree(([i[0] for i in split1]),([i[1] for i in split1]))\n",
    "\n",
    "        if len(split2) > 2:\n",
    "            kd_tree(([i[0] for i in split2]),([i[1] for i in split2]))\n",
    "    else:\n",
    "        minimum, maximum = min(x), max(x)\n",
    "        inverse=True\n",
    "        \n",
    "        split = (minimum+maximum)/2\n",
    "        print('x axis split: %.3f' % split)\n",
    "      \n",
    "        split1 = [[x[i],y[i]] for i in range(0,len(x)) if x[i] > split]\n",
    "        split2 = [[x[i],y[i]] for i in range(0,len(x)) if x[i] < split]\n",
    "\n",
    "        if len(split1) > 2:\n",
    "            kd_tree(([i[0] for i in split1]),([i[1] for i in split1]))\n",
    "        if len(split2) > 2:\n",
    "            kd_tree(([i[0] for i in split2]),([i[1] for i in split2]))\n",
    "\n",
    "kd_tree(x1,x2)"
   ]
  },
  {
   "cell_type": "code",
   "execution_count": null,
   "metadata": {},
   "outputs": [],
   "source": []
  },
  {
   "cell_type": "code",
   "execution_count": null,
   "metadata": {},
   "outputs": [],
   "source": []
  }
 ],
 "metadata": {
  "kernelspec": {
   "display_name": "Python 3",
   "language": "python",
   "name": "python3"
  },
  "language_info": {
   "codemirror_mode": {
    "name": "ipython",
    "version": 3
   },
   "file_extension": ".py",
   "mimetype": "text/x-python",
   "name": "python",
   "nbconvert_exporter": "python",
   "pygments_lexer": "ipython3",
   "version": "3.6.0"
  }
 },
 "nbformat": 4,
 "nbformat_minor": 2
}
