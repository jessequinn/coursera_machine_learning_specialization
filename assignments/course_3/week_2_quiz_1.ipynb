{
 "cells": [
  {
   "cell_type": "code",
   "execution_count": 19,
   "metadata": {},
   "outputs": [],
   "source": [
    "import numpy as np"
   ]
  },
  {
   "cell_type": "code",
   "execution_count": 20,
   "metadata": {},
   "outputs": [],
   "source": [
    "x = [2.5, 0.3, 2.8, 0.5]\n",
    "y = [1, -1, 1, 1]\n",
    "\n",
    "score = [1/(1+np.exp(-i)) for i in x]"
   ]
  },
  {
   "cell_type": "code",
   "execution_count": 21,
   "metadata": {},
   "outputs": [
    {
     "data": {
      "text/plain": [
       "[0.92414181997875655,\n",
       " 0.57444251681165903,\n",
       " 0.94267582410113127,\n",
       " 0.62245933120185459]"
      ]
     },
     "execution_count": 21,
     "metadata": {},
     "output_type": "execute_result"
    }
   ],
   "source": [
    "score"
   ]
  },
  {
   "cell_type": "code",
   "execution_count": 22,
   "metadata": {},
   "outputs": [
    {
     "name": "stdout",
     "output_type": "stream",
     "text": [
      "likelihood: 0.23\n"
     ]
    }
   ],
   "source": [
    "print('likelihood: %.2f' % float(score[0]*(1-score[1])*score[2]*score[3]))"
   ]
  },
  {
   "cell_type": "code",
   "execution_count": 40,
   "metadata": {},
   "outputs": [
    {
     "name": "stdout",
     "output_type": "stream",
     "text": [
      "the derivative of the log likelihood with respect to w1: 0.37\n"
     ]
    }
   ],
   "source": [
    "derivatives = []\n",
    "\n",
    "for i in range(0,4):\n",
    "    if i != 1:\n",
    "        derivatives.append(x[i]*(y[i]-score[i]))                  \n",
    "    else:\n",
    "        derivatives.append(x[i]*(0-score[i]))\n",
    "                       \n",
    "print('the derivative of the log likelihood with respect to w1: %.2f' % float(np.sum(derivatives)))"
   ]
  }
 ],
 "metadata": {
  "kernelspec": {
   "display_name": "Python 3",
   "language": "python",
   "name": "python3"
  },
  "language_info": {
   "codemirror_mode": {
    "name": "ipython",
    "version": 3
   },
   "file_extension": ".py",
   "mimetype": "text/x-python",
   "name": "python",
   "nbconvert_exporter": "python",
   "pygments_lexer": "ipython3",
   "version": "3.6.0"
  }
 },
 "nbformat": 4,
 "nbformat_minor": 2
}
